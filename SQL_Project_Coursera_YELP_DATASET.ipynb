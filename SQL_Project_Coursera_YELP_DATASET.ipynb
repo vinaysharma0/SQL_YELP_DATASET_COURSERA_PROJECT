{
 "cells": [
  {
   "cell_type": "code",
   "execution_count": 1,
   "metadata": {},
   "outputs": [],
   "source": [
    "review_path = '/media/vins/DATA/YELP DATASET/yelp_academic_dataset_review'\n",
    "user_path = '/media/vins/DATA/YELP DATASET/yelp_academic_dataset_user'\n",
    "business_path = '/media/vins/DATA/YELP DATASET/yelp_academic_dataset_business'\n",
    "tip_path = '/media/vins/DATA/YELP DATASET/yelp_academic_dataset_tip'\n",
    "checkin_path = '/media/vins/DATA/YELP DATASET/yelp_academic_dataset_checkin'"
   ]
  },
  {
   "cell_type": "code",
   "execution_count": 2,
   "metadata": {},
   "outputs": [],
   "source": [
    "import pandas as pd\n",
    "import pyspark\n",
    "from pyspark.sql import SparkSession\n",
    "from pyspark import SparkContext"
   ]
  },
  {
   "cell_type": "code",
   "execution_count": 3,
   "metadata": {},
   "outputs": [],
   "source": [
    "spark = SparkSession \\\n",
    ".builder \\\n",
    ".getOrCreate()"
   ]
  },
  {
   "cell_type": "code",
   "execution_count": 4,
   "metadata": {},
   "outputs": [],
   "source": [
    "user = spark.read.csv(user_path + '.csv',sep = ',',header = True)\n",
    "review = spark.read.csv(review_path + '.csv',sep = ',',header = True)\n",
    "checkin = spark.read.csv(checkin_path + '.csv',sep = ',',header = True)\n",
    "tip = spark.read.csv(tip_path + '.csv',sep = ',',header = True)\n",
    "business = spark.read.csv(business_path + '.csv',sep = ',',header = True)"
   ]
  },
  {
   "cell_type": "code",
   "execution_count": 5,
   "metadata": {},
   "outputs": [],
   "source": [
    "user.createOrReplaceTempView('user')\n",
    "review.createOrReplaceTempView('review')\n",
    "business.createOrReplaceTempView('business')\n",
    "tip.createOrReplaceTempView('tip')\n",
    "checkin.createOrReplaceTempView('checkin')"
   ]
  },
  {
   "cell_type": "code",
   "execution_count": 6,
   "metadata": {},
   "outputs": [
    {
     "name": "stdout",
     "output_type": "stream",
     "text": [
      "+--------------------+--------+------------+-------------------+------+-----+----+--------------------+--------------------+----+------------------+--------------+---------------+------------------+---------------+---------------+---------------+----------------+---------------+----------------+-----------------+-----------------+\n",
      "|             user_id|    name|review_count|      yelping_since|useful|funny|cool|               elite|             friends|fans|     average_stars|compliment_hot|compliment_more|compliment_profile|compliment_cute|compliment_list|compliment_note|compliment_plain|compliment_cool|compliment_funny|compliment_writer|compliment_photos|\n",
      "+--------------------+--------+------------+-------------------+------+-----+----+--------------------+--------------------+----+------------------+--------------+---------------+------------------+---------------+---------------+---------------+----------------+---------------+----------------+-----------------+-----------------+\n",
      "|ntlvfPzc8eglqvk92...|  Rafael|         553|2007-07-06 03:27:11|   628|  225| 227|                null|oeMvJh94PiGQnx_6G...|  14|3.5700000000000003|             3|              2|                 1|              0|              1|             11|              15|             22|              22|               10|                0|\n",
      "|FOBRPlBHa3WPHFB5q...|Michelle|         564|2008-04-28 01:29:25|   790|  316| 400|2008,2009,2010,20...|ly7EnE8leJmyqyePV...|  27|              3.84|            36|              4|                 5|              2|              1|             33|              37|             63|              63|               21|                5|\n",
      "|zZUnPeh2hEp0WydbA...|  Martin|          60|2008-08-28 23:40:05|   151|  125| 103|                2010|Uwlk0txjQBPw_JhHs...|   5|              3.44|             9|              6|                 0|              1|              0|              3|               7|             17|              17|                4|                1|\n",
      "|QaELAmRcDc5TfJEyl...|    John|         206|2008-09-20 00:08:14|   233|  160|  84|                2009|iog3Nyg1i4jeumiTV...|   6|              3.08|             2|              1|                 0|              0|              0|              7|              14|              7|               7|                2|                0|\n",
      "|xvu8G900tezTzbbfq...|    Anne|         485|2008-08-09 00:30:27|  1265|  400| 512|2009,2010,2011,20...|3W3ZMSthojCUirKEq...|  78|              4.37|             8|              9|                 2|              1|              1|             22|              28|             31|              31|               19|               31|\n",
      "+--------------------+--------+------------+-------------------+------+-----+----+--------------------+--------------------+----+------------------+--------------+---------------+------------------+---------------+---------------+---------------+----------------+---------------+----------------+-----------------+-----------------+\n",
      "only showing top 5 rows\n",
      "\n"
     ]
    }
   ],
   "source": [
    "spark.sql(\"\"\"\n",
    "                select * from user\n",
    "\"\"\").show(5)"
   ]
  },
  {
   "cell_type": "code",
   "execution_count": 7,
   "metadata": {},
   "outputs": [
    {
     "name": "stdout",
     "output_type": "stream",
     "text": [
      "+--------------------+--------------------+--------------------+---------------+-----+-----------+----------+------------+-----+------------+-------+--------------------+--------------------+--------------------+\n",
      "|         business_id|                name|             address|           city|state|postal_code|  latitude|   longitude|stars|review_count|is_open|          attributes|          categories|               hours|\n",
      "+--------------------+--------------------+--------------------+---------------+-----+-----------+----------+------------+-----+------------+-------+--------------------+--------------------+--------------------+\n",
      "|f9NumwFMBDn751xgF...|The Range At Lake...|     10913 Bailey Rd|      Cornelius|   NC|      28031|35.4627242| -80.8526119|  3.5|          36|      1|\"{'BusinessAccept...|     'street': False|  'validated': False|\n",
      "|Yzvjg0SayhoZgCljU...|   Carlos Santo, NMD|8880 E Via Linda,...|     Scottsdale|   AZ|      85258|33.5694041|-111.8902637|  5.0|           4|      1|{'GoodForKids': '...|Health & Medical,...|                null|\n",
      "|XNoUzKckATkOD1hP6...|             Felinus|3554 Rue Notre-Da...|       Montreal|   QC|    H4C 1P4| 45.479984|   -73.58007|  5.0|           5|      1|                null|Pets, Pet Service...|                null|\n",
      "|6OAZjbxqM5ol29BuH...|Nevada House of Hose|      1015 Sharp Cir|North Las Vegas|   NV|      89030|36.2197281|-115.1277255|  2.5|           3|      0|\"{'BusinessAccept...|     'street': False|  'validated': False|\n",
      "|51M2Kk903DFYI6gnB...|USE MY GUY SERVIC...|  4827 E Downing Cir|           Mesa|   AZ|      85205|33.4280652|-111.7266485|  4.5|          26|      1|{'BusinessAccepts...|Home Services, Pl...|{'Monday': '0:0-0...|\n",
      "+--------------------+--------------------+--------------------+---------------+-----+-----------+----------+------------+-----+------------+-------+--------------------+--------------------+--------------------+\n",
      "only showing top 5 rows\n",
      "\n"
     ]
    }
   ],
   "source": [
    "spark.sql(\"\"\"\n",
    "                select * from business\n",
    "\"\"\").show(5)"
   ]
  },
  {
   "cell_type": "code",
   "execution_count": 8,
   "metadata": {},
   "outputs": [
    {
     "name": "stdout",
     "output_type": "stream",
     "text": [
      "+--------------------+--------------------+--------------------+-------------------+----------------+\n",
      "|             user_id|         business_id|                text|               date|compliment_count|\n",
      "+--------------------+--------------------+--------------------+-------------------+----------------+\n",
      "|hf27xTME3EiCp6NL6...|UYX5zL_Xj9WEc_Wp-...|Here for a quick mtg|2013-11-26 18:20:08|               0|\n",
      "|uEvusDwoSymbJJ0au...|Ch3HkwQYv1YKw_FO0...|Cucumber strawber...|2014-06-15 22:26:45|               0|\n",
      "|AY-laIws3S7YXNl_f...|rDoT-MgxGRiYqCmi0...|Very nice good se...|2016-07-18 22:03:42|               0|\n",
      "|Ue_7yUlkEbX4AhnYd...|OHXnDV01gLokiX1EL...|It's a small plac...|2014-06-06 01:10:34|               0|\n",
      "|LltbT_fUMqZ-ZJP-v...|GMrwDXRlAZU2zj5nH...|8 sandwiches, $24...|2011-04-08 18:12:01|               0|\n",
      "+--------------------+--------------------+--------------------+-------------------+----------------+\n",
      "only showing top 5 rows\n",
      "\n"
     ]
    }
   ],
   "source": [
    "spark.sql(\"\"\"\n",
    "                select * from tip\n",
    "\"\"\").show(5)"
   ]
  },
  {
   "cell_type": "code",
   "execution_count": 9,
   "metadata": {},
   "outputs": [
    {
     "name": "stdout",
     "output_type": "stream",
     "text": [
      "+--------------------+--------------------+\n",
      "|         business_id|                date|\n",
      "+--------------------+--------------------+\n",
      "|--1UhMGODdWsrMast...|2016-04-26 19:49:...|\n",
      "|--6MefnULPED_I942...|2011-06-04 18:22:...|\n",
      "|--7zmmkVg-IMGaXbu...|2014-12-29 19:25:...|\n",
      "|--8LPVSo5i0Oo61X0...| 2016-07-08 16:43:30|\n",
      "|--9QQLMTbFzLJ_oT-...|2010-06-26 17:39:...|\n",
      "+--------------------+--------------------+\n",
      "only showing top 5 rows\n",
      "\n"
     ]
    }
   ],
   "source": [
    "spark.sql(\"\"\"\n",
    "                select * from checkin\n",
    "\"\"\").show(5)"
   ]
  },
  {
   "cell_type": "code",
   "execution_count": 10,
   "metadata": {},
   "outputs": [
    {
     "name": "stdout",
     "output_type": "stream",
     "text": [
      "+--------------------+--------------------+--------------------+------------------+------+-----+----+--------------------+----+\n",
      "|           review_id|             user_id|         business_id|             stars|useful|funny|cool|                text|date|\n",
      "+--------------------+--------------------+--------------------+------------------+------+-----+----+--------------------+----+\n",
      "|xQY8N_XvtGbearJ5X...|OwjRMXRC0KyPrIlcj...|-MhfebM0QIsKt87iD...|                 2|     5|    0|   0|As someone who ha...|null|\n",
      "|Tucked away near ...| the Gallery is p...|                null|              null|  null| null|null|                null|null|\n",
      "|     That being said| you can still se...| so why the two *...|              null|  null| null|null|                null|null|\n",
      "|  * pricing for this| while relatively...| is completely ov...| it is a bit much.|  null| null|null|                null|null|\n",
      "|* it's not kid fr...|   don't bring them.|                null|              null|  null| null|null|                null|null|\n",
      "+--------------------+--------------------+--------------------+------------------+------+-----+----+--------------------+----+\n",
      "only showing top 5 rows\n",
      "\n"
     ]
    }
   ],
   "source": [
    "spark.sql(\"\"\"\n",
    "                select * from review\n",
    "\"\"\").show(5)"
   ]
  },
  {
   "cell_type": "code",
   "execution_count": null,
   "metadata": {},
   "outputs": [],
   "source": []
  }
 ],
 "metadata": {
  "kernelspec": {
   "display_name": "Python 3",
   "language": "python",
   "name": "python3"
  },
  "language_info": {
   "codemirror_mode": {
    "name": "ipython",
    "version": 3
   },
   "file_extension": ".py",
   "mimetype": "text/x-python",
   "name": "python",
   "nbconvert_exporter": "python",
   "pygments_lexer": "ipython3",
   "version": "3.7.6"
  }
 },
 "nbformat": 4,
 "nbformat_minor": 4
}
